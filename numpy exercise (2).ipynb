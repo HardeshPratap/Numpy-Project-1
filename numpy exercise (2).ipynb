{
 "cells": [
  {
   "cell_type": "code",
   "execution_count": 3,
   "id": "c662b6af",
   "metadata": {},
   "outputs": [],
   "source": [
    "import numpy as np"
   ]
  },
  {
   "cell_type": "code",
   "execution_count": null,
   "id": "c71b7590",
   "metadata": {},
   "outputs": [],
   "source": [
    "#1.Represent the data in the given sheet into an appropriate NumPy array so\n",
    "that you can perform the following actions on it.\n"
   ]
  },
  {
   "cell_type": "code",
   "execution_count": 4,
   "id": "20c2b4a1",
   "metadata": {},
   "outputs": [],
   "source": [
    "temp=np.array([[[[6,23],[14,20],[6,27],[14,22],[8,22],[6,32],[14,29]],[[7,27],[12,29],[11,29],[-13,23],[15,31],[15,30],[8,30]],[[5,21],[12,18],[-1,12],[12,20],[25,27],[17,28],[12,19]],[[-2,15],[0,12],[2,18],[13,24],[10,20],[12,24],[0,17]]],[[[8,23],[14,20],[6,27],[14,22],[8,22],[6,32],[14,29]],[[7,27],[12,29],[11,29],[-13,23],[15,31],[15,30],[8,30]],[[5,21],[12,18],[-1,12],[12,20],[25,27],[17,28],[12,19]],[[-2,15],[0,12],[2,18],[13,24],[10,20],[12,24],[0,17]]],[[[9,23],[14,20],[6,27],[14,22],[8,22],[6,32],[14,29]],[[7,27],[12,29],[11,29],[-13,23],[15,31],[15,30],[8,30]],[[5,21],[12,18],[-1,12],[12,20],[25,27],[17,28],[12,19]],[[-2,15],[0,12],[2,18],[13,24],[10,20],[12,24],[0,17]]],[[[6,23],[14,20],[6,27],[14,22],[8,22],[6,32],[14,29]],[[7,27],[12,29],[11,29],[-13,23],[15,31],[15,30],[8,30]],[[5,21],[12,18],[-1,12],[12,20],[25,27],[17,28],[12,19]],[[-2,15],[0,12],[2,18],[13,24],[10,20],[12,24],[0,17]]]])\n"
   ]
  },
  {
   "cell_type": "code",
   "execution_count": 5,
   "id": "aea21ce4",
   "metadata": {},
   "outputs": [
    {
     "name": "stdout",
     "output_type": "stream",
     "text": [
      "[[[[  6  23]\n",
      "   [ 14  20]\n",
      "   [  6  27]\n",
      "   [ 14  22]\n",
      "   [  8  22]\n",
      "   [  6  32]\n",
      "   [ 14  29]]\n",
      "\n",
      "  [[  7  27]\n",
      "   [ 12  29]\n",
      "   [ 11  29]\n",
      "   [-13  23]\n",
      "   [ 15  31]\n",
      "   [ 15  30]\n",
      "   [  8  30]]\n",
      "\n",
      "  [[  5  21]\n",
      "   [ 12  18]\n",
      "   [ -1  12]\n",
      "   [ 12  20]\n",
      "   [ 25  27]\n",
      "   [ 17  28]\n",
      "   [ 12  19]]\n",
      "\n",
      "  [[ -2  15]\n",
      "   [  0  12]\n",
      "   [  2  18]\n",
      "   [ 13  24]\n",
      "   [ 10  20]\n",
      "   [ 12  24]\n",
      "   [  0  17]]]\n",
      "\n",
      "\n",
      " [[[  8  23]\n",
      "   [ 14  20]\n",
      "   [  6  27]\n",
      "   [ 14  22]\n",
      "   [  8  22]\n",
      "   [  6  32]\n",
      "   [ 14  29]]\n",
      "\n",
      "  [[  7  27]\n",
      "   [ 12  29]\n",
      "   [ 11  29]\n",
      "   [-13  23]\n",
      "   [ 15  31]\n",
      "   [ 15  30]\n",
      "   [  8  30]]\n",
      "\n",
      "  [[  5  21]\n",
      "   [ 12  18]\n",
      "   [ -1  12]\n",
      "   [ 12  20]\n",
      "   [ 25  27]\n",
      "   [ 17  28]\n",
      "   [ 12  19]]\n",
      "\n",
      "  [[ -2  15]\n",
      "   [  0  12]\n",
      "   [  2  18]\n",
      "   [ 13  24]\n",
      "   [ 10  20]\n",
      "   [ 12  24]\n",
      "   [  0  17]]]\n",
      "\n",
      "\n",
      " [[[  9  23]\n",
      "   [ 14  20]\n",
      "   [  6  27]\n",
      "   [ 14  22]\n",
      "   [  8  22]\n",
      "   [  6  32]\n",
      "   [ 14  29]]\n",
      "\n",
      "  [[  7  27]\n",
      "   [ 12  29]\n",
      "   [ 11  29]\n",
      "   [-13  23]\n",
      "   [ 15  31]\n",
      "   [ 15  30]\n",
      "   [  8  30]]\n",
      "\n",
      "  [[  5  21]\n",
      "   [ 12  18]\n",
      "   [ -1  12]\n",
      "   [ 12  20]\n",
      "   [ 25  27]\n",
      "   [ 17  28]\n",
      "   [ 12  19]]\n",
      "\n",
      "  [[ -2  15]\n",
      "   [  0  12]\n",
      "   [  2  18]\n",
      "   [ 13  24]\n",
      "   [ 10  20]\n",
      "   [ 12  24]\n",
      "   [  0  17]]]\n",
      "\n",
      "\n",
      " [[[  6  23]\n",
      "   [ 14  20]\n",
      "   [  6  27]\n",
      "   [ 14  22]\n",
      "   [  8  22]\n",
      "   [  6  32]\n",
      "   [ 14  29]]\n",
      "\n",
      "  [[  7  27]\n",
      "   [ 12  29]\n",
      "   [ 11  29]\n",
      "   [-13  23]\n",
      "   [ 15  31]\n",
      "   [ 15  30]\n",
      "   [  8  30]]\n",
      "\n",
      "  [[  5  21]\n",
      "   [ 12  18]\n",
      "   [ -1  12]\n",
      "   [ 12  20]\n",
      "   [ 25  27]\n",
      "   [ 17  28]\n",
      "   [ 12  19]]\n",
      "\n",
      "  [[ -2  15]\n",
      "   [  0  12]\n",
      "   [  2  18]\n",
      "   [ 13  24]\n",
      "   [ 10  20]\n",
      "   [ 12  24]\n",
      "   [  0  17]]]]\n"
     ]
    }
   ],
   "source": [
    "print(temp)"
   ]
  },
  {
   "cell_type": "code",
   "execution_count": null,
   "id": "ef173fbd",
   "metadata": {},
   "outputs": [],
   "source": [
    "#2. Write the dimensions and shape of the NumPy array that you have\n",
    "created."
   ]
  },
  {
   "cell_type": "code",
   "execution_count": 6,
   "id": "58bba8d2",
   "metadata": {},
   "outputs": [
    {
     "data": {
      "text/plain": [
       "4"
      ]
     },
     "execution_count": 6,
     "metadata": {},
     "output_type": "execute_result"
    }
   ],
   "source": [
    "temp.ndim"
   ]
  },
  {
   "cell_type": "code",
   "execution_count": 7,
   "id": "9be53431",
   "metadata": {},
   "outputs": [
    {
     "data": {
      "text/plain": [
       "(4, 4, 7, 2)"
      ]
     },
     "execution_count": 7,
     "metadata": {},
     "output_type": "execute_result"
    }
   ],
   "source": [
    "temp.shape"
   ]
  },
  {
   "cell_type": "code",
   "execution_count": null,
   "id": "8dc5bbaa",
   "metadata": {},
   "outputs": [],
   "source": [
    "#3. Print the daily temperatures for the first week of each month."
   ]
  },
  {
   "cell_type": "code",
   "execution_count": 13,
   "id": "4acadbcf",
   "metadata": {},
   "outputs": [
    {
     "name": "stdout",
     "output_type": "stream",
     "text": [
      "Day wise temprature\n",
      "\tNovember / Week-1\n",
      "Monday\n",
      "Min- 6 ° C\n",
      "Max- 23 ° C\n",
      "Tuesday\n",
      "Min- 14 ° C\n",
      "Max- 20 ° C\n",
      "Wednesday\n",
      "Min- 6 ° C\n",
      "Max- 27 ° C\n",
      "Thursday\n",
      "Min- 14 ° C\n",
      "Max- 22 ° C\n",
      "Friday\n",
      "Min- 8 ° C\n",
      "Max- 22 ° C\n",
      "Saturday\n",
      "Min- 6 ° C\n",
      "Max- 32 ° C\n",
      "Sunday\n",
      "Min- 14 ° C\n",
      "Max- 29 ° C\n",
      "\tDecember / Week-1\n",
      "Monday\n",
      "Min- 8 ° C\n",
      "Max- 23 ° C\n",
      "Tuesday\n",
      "Min- 14 ° C\n",
      "Max- 20 ° C\n",
      "Wednesday\n",
      "Min- 6 ° C\n",
      "Max- 27 ° C\n",
      "Thursday\n",
      "Min- 14 ° C\n",
      "Max- 22 ° C\n",
      "Friday\n",
      "Min- 8 ° C\n",
      "Max- 22 ° C\n",
      "Saturday\n",
      "Min- 6 ° C\n",
      "Max- 32 ° C\n",
      "Sunday\n",
      "Min- 14 ° C\n",
      "Max- 29 ° C\n",
      "\tJanuary / Week-1\n",
      "Monday\n",
      "Min- 9 ° C\n",
      "Max- 23 ° C\n",
      "Tuesday\n",
      "Min- 14 ° C\n",
      "Max- 20 ° C\n",
      "Wednesday\n",
      "Min- 6 ° C\n",
      "Max- 27 ° C\n",
      "Thursday\n",
      "Min- 14 ° C\n",
      "Max- 22 ° C\n",
      "Friday\n",
      "Min- 8 ° C\n",
      "Max- 22 ° C\n",
      "Saturday\n",
      "Min- 6 ° C\n",
      "Max- 32 ° C\n",
      "Sunday\n",
      "Min- 14 ° C\n",
      "Max- 29 ° C\n",
      "\tFebruary / Week-1\n",
      "Monday\n",
      "Min- 6 ° C\n",
      "Max- 23 ° C\n",
      "Tuesday\n",
      "Min- 14 ° C\n",
      "Max- 20 ° C\n",
      "Wednesday\n",
      "Min- 6 ° C\n",
      "Max- 27 ° C\n",
      "Thursday\n",
      "Min- 14 ° C\n",
      "Max- 22 ° C\n",
      "Friday\n",
      "Min- 8 ° C\n",
      "Max- 22 ° C\n",
      "Saturday\n",
      "Min- 6 ° C\n",
      "Max- 32 ° C\n",
      "Sunday\n",
      "Min- 14 ° C\n",
      "Max- 29 ° C\n"
     ]
    }
   ],
   "source": [
    "month=['November','December','January','February']\n",
    "week=['week1','week2','week3','week4']\n",
    "day=['Monday','Tuesday','Wednesday','Thursday','Friday','Saturday','Sunday']\n",
    "\n",
    "print('Day wise temprature')\n",
    "\n",
    "for i in range(temp.shape[0]):\n",
    "    \n",
    "    j=0\n",
    "    print(f'\\t{month[i]} / Week-1')\n",
    "    \n",
    "    for k in range(temp.shape[2]):\n",
    "        print(f'{day[k]}')\n",
    "        l=0\n",
    "        print('Min-',temp[i,j,k,l],chr(176),'C')\n",
    "        l=l+1\n",
    "        print('Max-',temp[i,j,k,l],chr(176),'C')\n",
    "        "
   ]
  },
  {
   "cell_type": "code",
   "execution_count": null,
   "id": "e4ab1385",
   "metadata": {},
   "outputs": [],
   "source": [
    "#4. Print the temperatures for Tuesday of each month."
   ]
  },
  {
   "cell_type": "code",
   "execution_count": 16,
   "id": "e55eb18e",
   "metadata": {},
   "outputs": [
    {
     "name": "stdout",
     "output_type": "stream",
     "text": [
      "\tNovember\n",
      "\tweek1 \n",
      "Min- 14 ° C\n",
      "Max- 20 ° C\n",
      "\tweek2 \n",
      "Min- 12 ° C\n",
      "Max- 29 ° C\n",
      "\tweek3 \n",
      "Min- 12 ° C\n",
      "Max- 18 ° C\n",
      "\tweek4 \n",
      "Min- 0 ° C\n",
      "Max- 12 ° C\n",
      "\tDecember\n",
      "\tweek1 \n",
      "Min- 14 ° C\n",
      "Max- 20 ° C\n",
      "\tweek2 \n",
      "Min- 12 ° C\n",
      "Max- 29 ° C\n",
      "\tweek3 \n",
      "Min- 12 ° C\n",
      "Max- 18 ° C\n",
      "\tweek4 \n",
      "Min- 0 ° C\n",
      "Max- 12 ° C\n",
      "\tJanuary\n",
      "\tweek1 \n",
      "Min- 14 ° C\n",
      "Max- 20 ° C\n",
      "\tweek2 \n",
      "Min- 12 ° C\n",
      "Max- 29 ° C\n",
      "\tweek3 \n",
      "Min- 12 ° C\n",
      "Max- 18 ° C\n",
      "\tweek4 \n",
      "Min- 0 ° C\n",
      "Max- 12 ° C\n",
      "\tFebruary\n",
      "\tweek1 \n",
      "Min- 14 ° C\n",
      "Max- 20 ° C\n",
      "\tweek2 \n",
      "Min- 12 ° C\n",
      "Max- 29 ° C\n",
      "\tweek3 \n",
      "Min- 12 ° C\n",
      "Max- 18 ° C\n",
      "\tweek4 \n",
      "Min- 0 ° C\n",
      "Max- 12 ° C\n"
     ]
    }
   ],
   "source": [
    "month=['November','December','January','February']\n",
    "week=['week1','week2','week3','week4']\n",
    "day=['Monday','Tuesday','Wednesday','Thursday','Friday','Saturday','Sunday']\n",
    "\n",
    "for i in range(temp.shape[0]):\n",
    "    print(f'\\t{month[i]}')\n",
    "    \n",
    "    for j in range(temp.shape[1]):\n",
    "        print(f'\\t{week[j]} ')\n",
    "        k=1\n",
    "        l=0\n",
    "        print('Min-',temp[i,j,k,l],chr(176),'C')\n",
    "        l=l+1\n",
    "        print('Max-',temp[i,j,k,l],chr(176),'C')\n",
    "        "
   ]
  },
  {
   "cell_type": "code",
   "execution_count": null,
   "id": "e7899311",
   "metadata": {},
   "outputs": [],
   "source": [
    "#5. Print only the maximum temperature for all the weekdays of Dec and Feb."
   ]
  },
  {
   "cell_type": "code",
   "execution_count": 18,
   "id": "d371f767",
   "metadata": {},
   "outputs": [
    {
     "name": "stdout",
     "output_type": "stream",
     "text": [
      "\tDecember\n",
      "\tweek1 \n",
      "\tMonday  23 ° C\n",
      "\tTuesday  20 ° C\n",
      "\tWednesday  27 ° C\n",
      "\tThursday  22 ° C\n",
      "\tFriday  22 ° C\n",
      "\tSaturday  32 ° C\n",
      "\tSunday  29 ° C\n",
      "\tweek2 \n",
      "\tMonday  27 ° C\n",
      "\tTuesday  29 ° C\n",
      "\tWednesday  29 ° C\n",
      "\tThursday  23 ° C\n",
      "\tFriday  31 ° C\n",
      "\tSaturday  30 ° C\n",
      "\tSunday  30 ° C\n",
      "\tweek3 \n",
      "\tMonday  21 ° C\n",
      "\tTuesday  18 ° C\n",
      "\tWednesday  12 ° C\n",
      "\tThursday  20 ° C\n",
      "\tFriday  27 ° C\n",
      "\tSaturday  28 ° C\n",
      "\tSunday  19 ° C\n",
      "\tweek4 \n",
      "\tMonday  15 ° C\n",
      "\tTuesday  12 ° C\n",
      "\tWednesday  18 ° C\n",
      "\tThursday  24 ° C\n",
      "\tFriday  20 ° C\n",
      "\tSaturday  24 ° C\n",
      "\tSunday  17 ° C\n",
      "\tFebruary\n",
      "\tweek1 \n",
      "\tMonday  23 ° C\n",
      "\tTuesday  20 ° C\n",
      "\tWednesday  27 ° C\n",
      "\tThursday  22 ° C\n",
      "\tFriday  22 ° C\n",
      "\tSaturday  32 ° C\n",
      "\tSunday  29 ° C\n",
      "\tweek2 \n",
      "\tMonday  27 ° C\n",
      "\tTuesday  29 ° C\n",
      "\tWednesday  29 ° C\n",
      "\tThursday  23 ° C\n",
      "\tFriday  31 ° C\n",
      "\tSaturday  30 ° C\n",
      "\tSunday  30 ° C\n",
      "\tweek3 \n",
      "\tMonday  21 ° C\n",
      "\tTuesday  18 ° C\n",
      "\tWednesday  12 ° C\n",
      "\tThursday  20 ° C\n",
      "\tFriday  27 ° C\n",
      "\tSaturday  28 ° C\n",
      "\tSunday  19 ° C\n",
      "\tweek4 \n",
      "\tMonday  15 ° C\n",
      "\tTuesday  12 ° C\n",
      "\tWednesday  18 ° C\n",
      "\tThursday  24 ° C\n",
      "\tFriday  20 ° C\n",
      "\tSaturday  24 ° C\n",
      "\tSunday  17 ° C\n"
     ]
    }
   ],
   "source": [
    "month=['November','December','January','February']\n",
    "week=['week1','week2','week3','week4']\n",
    "day=['Monday','Tuesday','Wednesday','Thursday','Friday','Saturday','Sunday']\n",
    "\n",
    "for i in range(1,4,2):\n",
    "    print(f'\\t{month[i]}')\n",
    "    \n",
    "    for j in range(temp.shape[1]):\n",
    "        print(f'\\t{week[j]} ')\n",
    "        for k in range(temp.shape[2]):\n",
    "            print(f'\\t{day[k]} ',temp[i,j,k,l],chr(176),'C')"
   ]
  },
  {
   "cell_type": "code",
   "execution_count": null,
   "id": "ca39e1e5",
   "metadata": {},
   "outputs": [],
   "source": [
    "#6. Print all the days along with the week number in November when the\n",
    "minimum temperature was less than 8 degrees."
   ]
  },
  {
   "cell_type": "code",
   "execution_count": 19,
   "id": "0188729e",
   "metadata": {},
   "outputs": [
    {
     "name": "stdout",
     "output_type": "stream",
     "text": [
      "week-1 Monday \n",
      "week-1 Wednesday \n",
      "week-1 Saturday \n",
      "week-2 Monday \n",
      "week-2 Thursday \n",
      "week-3 Monday \n",
      "week-3 Wednesday \n",
      "week-4 Monday \n",
      "week-4 Tuesday \n",
      "week-4 Wednesday \n",
      "week-4 Sunday \n"
     ]
    }
   ],
   "source": [
    "month=['November','December','January','February']\n",
    "week=['week1','week2','week3','week4']\n",
    "day=['Monday','Tuesday','Wednesday','Thursday','Friday','Saturday','Sunday']\n",
    "\n",
    "\n",
    "    \n",
    "for j in range(temp.shape[1]):\n",
    "       \n",
    "    for k in range(temp.shape[2]):\n",
    "        if temp[0,j,k,0]<8:\n",
    "            print(f'week-{j+1} {day[k]} ')"
   ]
  },
  {
   "cell_type": "code",
   "execution_count": null,
   "id": "f8d71a77",
   "metadata": {},
   "outputs": [],
   "source": [
    "#7. Print all the weeks in Dec and Jan where the maximum temperature has\n",
    "crossed a threshold of 20 degrees."
   ]
  },
  {
   "cell_type": "code",
   "execution_count": 26,
   "id": "6cec655b",
   "metadata": {},
   "outputs": [
    {
     "name": "stdout",
     "output_type": "stream",
     "text": [
      "December week-1\n",
      "December week-2\n",
      "December week-3\n",
      "December week-4\n",
      "January week-1\n",
      "January week-2\n",
      "January week-3\n",
      "January week-4\n"
     ]
    }
   ],
   "source": [
    "month=['November','December','January','February']\n",
    "week=['week1','week2','week3','week4']\n",
    "day=['Monday','Tuesday','Wednesday','Thursday','Friday','Saturday','Sunday']\n",
    "for i in [1,2]:\n",
    "    for j in range(0,4):\n",
    "        if np.any(temp[i,j]>20):\n",
    "            print(f'{month[i]} week-{j+1}')"
   ]
  },
  {
   "cell_type": "code",
   "execution_count": null,
   "id": "4e17de35",
   "metadata": {},
   "outputs": [],
   "source": [
    "#8. Check if there are any absurd values present in the dataset(like some temp\n",
    "which should not be present in the data)"
   ]
  },
  {
   "cell_type": "code",
   "execution_count": 22,
   "id": "8bb3554f",
   "metadata": {},
   "outputs": [
    {
     "name": "stdout",
     "output_type": "stream",
     "text": [
      "Yes.Absurd value is present.\n"
     ]
    }
   ],
   "source": [
    "if np.any(temp<0) or np.any(temp>30):\n",
    "     print('Yes.Absurd value is present.')\n",
    "else:\n",
    "    print('No any absurd value.')"
   ]
  },
  {
   "cell_type": "code",
   "execution_count": null,
   "id": "07032de4",
   "metadata": {},
   "outputs": [],
   "source": [
    "#10. Find and print the indexes of all the outlier(unusual) values present in\n",
    "the above dataset."
   ]
  },
  {
   "cell_type": "code",
   "execution_count": 30,
   "id": "27823a54",
   "metadata": {},
   "outputs": [
    {
     "name": "stdout",
     "output_type": "stream",
     "text": [
      "0 1 3 0\n",
      "0 2 2 0\n",
      "0 3 0 0\n",
      "1 1 3 0\n",
      "1 2 2 0\n",
      "1 3 0 0\n",
      "2 1 3 0\n",
      "2 2 2 0\n",
      "2 3 0 0\n",
      "3 1 3 0\n",
      "3 2 2 0\n",
      "3 3 0 0\n"
     ]
    }
   ],
   "source": [
    "for i in range(temp.shape[0]):\n",
    "    \n",
    "    for j in range(temp.shape[1]): \n",
    "        \n",
    "        for k in range(temp.shape[2]): \n",
    "            \n",
    "            if temp[i,j,k,0]<0:\n",
    "                print(i,j,k,0)\n",
    "            \n",
    "            if temp[i,j,k,1]>50: \n",
    "                print(i,j,k,1) "
   ]
  },
  {
   "cell_type": "code",
   "execution_count": null,
   "id": "daf6bbd6",
   "metadata": {},
   "outputs": [],
   "source": [
    "#12. Find the average max temperature for the winter months in Jaipur."
   ]
  },
  {
   "cell_type": "code",
   "execution_count": null,
   "id": "8f68943f",
   "metadata": {},
   "outputs": [],
   "source": []
  },
  {
   "cell_type": "code",
   "execution_count": null,
   "id": "f31f695c",
   "metadata": {},
   "outputs": [],
   "source": [
    "#13. Find the weekly min avg temp for the month of Dec in Jaipur"
   ]
  },
  {
   "cell_type": "code",
   "execution_count": 45,
   "id": "7148cea4",
   "metadata": {},
   "outputs": [
    {
     "name": "stdout",
     "output_type": "stream",
     "text": [
      "[10.    7.86 11.71  5.  ]\n"
     ]
    }
   ],
   "source": [
    "a=np.mean(temp[1],axis=1)\n",
    "b=a.reshape(8)\n",
    "print(np.round(b[0:8:2],2))"
   ]
  },
  {
   "cell_type": "code",
   "execution_count": null,
   "id": "88db81b9",
   "metadata": {},
   "outputs": [],
   "source": [
    "#14. Find the overall avg temp for the months Dec and Jan"
   ]
  },
  {
   "cell_type": "code",
   "execution_count": 47,
   "id": "cd408776",
   "metadata": {},
   "outputs": [
    {
     "name": "stdout",
     "output_type": "stream",
     "text": [
      "overall avg temp for the month of Dec and Jan :15.92 ° C\n"
     ]
    }
   ],
   "source": [
    "print(f'overall avg temp for the month of Dec and Jan :{np.round(np.mean(temp[1:3]),2)}',chr(176),'C')"
   ]
  },
  {
   "cell_type": "code",
   "execution_count": null,
   "id": "8a5500ed",
   "metadata": {},
   "outputs": [],
   "source": [
    "#15. Find the least temp experienced by the city in the month of Dec and\n",
    "Jan. Also print the exact date( Day/Week/Month) for the same."
   ]
  },
  {
   "cell_type": "code",
   "execution_count": 50,
   "id": "646ab670",
   "metadata": {},
   "outputs": [
    {
     "name": "stdout",
     "output_type": "stream",
     "text": [
      "least temp in December - -13 ° C\n",
      "Thursday/week2/December\n",
      "least temp in January - -13 ° C\n",
      "Thursday/week2/January\n"
     ]
    }
   ],
   "source": [
    "month=['November','December','January','February']\n",
    "week=['week1','week2','week3','week4']\n",
    "day=['Monday','Tuesday','Wednesday','Thursday','Friday','Saturday','Sunday']\n",
    "for i in range(1,3):\n",
    "    print(f'least temp in {month[i]} - {np.min(temp[i])}', chr(176),'C')\n",
    "    min_temp=np.min(temp[1])\n",
    "    frmt=np.argwhere(temp[i] == min_temp)\n",
    "    print(f'{day[frmt[0,1]]}/{week[frmt[0,0]]}/{month[i]}')\n",
    "    "
   ]
  },
  {
   "cell_type": "code",
   "execution_count": null,
   "id": "5eb09e3a",
   "metadata": {},
   "outputs": [],
   "source": [
    "#Find the max temp in the month of Feb and return its\n",
    "date(Day/Week/Month)"
   ]
  },
  {
   "cell_type": "code",
   "execution_count": 53,
   "id": "b2d920a9",
   "metadata": {},
   "outputs": [
    {
     "name": "stdout",
     "output_type": "stream",
     "text": [
      "max temp in February - 32 ° C\n",
      "Saturday/week1/February\n"
     ]
    }
   ],
   "source": [
    "print(f'max temp in {month[3]} - {np.max(temp[3])}', chr(176),'C')\n",
    "max_temp=np.max(temp[3])\n",
    "frmt=np.argwhere(temp[i] == max_temp)\n",
    "print(f'{day[frmt[0,1]]}/{week[frmt[0,0]]}/{month[3]}')\n",
    "    "
   ]
  },
  {
   "cell_type": "code",
   "execution_count": null,
   "id": "5dde2344",
   "metadata": {},
   "outputs": [],
   "source": [
    "#17. Find the days in the month of Nov where the max temp of the day\n",
    "dropped below the avg temp of the month."
   ]
  },
  {
   "cell_type": "code",
   "execution_count": null,
   "id": "95ff6c52",
   "metadata": {},
   "outputs": [],
   "source": []
  }
 ],
 "metadata": {
  "kernelspec": {
   "display_name": "Python 3 (ipykernel)",
   "language": "python",
   "name": "python3"
  },
  "language_info": {
   "codemirror_mode": {
    "name": "ipython",
    "version": 3
   },
   "file_extension": ".py",
   "mimetype": "text/x-python",
   "name": "python",
   "nbconvert_exporter": "python",
   "pygments_lexer": "ipython3",
   "version": "3.9.13"
  }
 },
 "nbformat": 4,
 "nbformat_minor": 5
}
